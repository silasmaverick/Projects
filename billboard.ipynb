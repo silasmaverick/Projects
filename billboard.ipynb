{
  "nbformat": 4,
  "nbformat_minor": 0,
  "metadata": {
    "colab": {
      "name": "billboard.ipynb",
      "provenance": [],
      "authorship_tag": "ABX9TyPOL0n/01baARvBz7K5I8Nw",
      "include_colab_link": true
    },
    "kernelspec": {
      "name": "python3",
      "display_name": "Python 3"
    },
    "language_info": {
      "name": "python"
    }
  },
  "cells": [
    {
      "cell_type": "markdown",
      "metadata": {
        "id": "view-in-github",
        "colab_type": "text"
      },
      "source": [
        "<a href=\"https://colab.research.google.com/github/silasmaverick/jupyter/blob/master/billboard.ipynb\" target=\"_parent\"><img src=\"https://colab.research.google.com/assets/colab-badge.svg\" alt=\"Open In Colab\"/></a>"
      ]
    },
    {
      "cell_type": "markdown",
      "metadata": {
        "id": "z7uf_PvBF3zE"
      },
      "source": [
        "O projeto se inicia com a instalação de um banco de dados Postgres na nuvem na plataforma Heroku. Heroku é uma plataforma (Paas) que tem a oferta de serviço que permite aos desenvolvedores realizar implantação, escalonamento e gerenciamento de aplicativos sem complicações. Foi construida com base (na Iaas) cloud da AWS\n",
        "\n",
        "https://devcenter.heroku.com/categories/reference\n",
        "\n",
        "O primeiro passo foi criar a conta na Heroku. Após a conta criada, É necessário criar um app clicando no botão new. Configurar o nome e preferências. No menu superior, acessar a sessão overview e em seguida configure Addons. No campo de busca escolher Heroku Postgres. \n",
        "\n",
        "Criado o serviço, voltar na aba overview e clicar sobre o link do Postgres. Na nova aba, no menu superior escolher Settings e depois view credentials. Ali está as credenciais para manejo do banco de dados.\n",
        "\n",
        "Para gerenciar o banco de dados usei a IDE dBeaver ![image.png](data:image/png;base64,iVBORw0KGgoAAAANSUhEUgAAAWAAAACJCAYAAAASXeKyAAAABHNCSVQICAgIfAhkiAAAIABJREFUeF7tfQl4VNeRbt2W0ALCbEICxNIgIRCrBAaD7UA7frExdmzM2M/O2GPkjGNnMm8S8RI/Oy+JkV8m880kXx7KNzOZF2diZH/JN3a8IBzbMXEcmn1HYhVoQY2EWMQmIQFqIfV9p67Ure67nrv1vS2d+318dp9Tp6rO3+rq6jp1qjhgjyEEfIWFI4PBdh/PcYXAg0/ChAM/x/NVqanD/f6qqlbJPBtgCDAEBj0C3KBHQCcAS2ZPL4YQX8wDv5x26bis7MoePvTzj7ft+R3tGkbHEGAIDHwEmAGmfI8Fw8uHSnkepoiXZI4eA1OmeCEvPz9m6vy5ZrjU0gLVp04K45mjM69OGD/h73/9/sZ3xDzYa4YAQ2DwIcAMsMZ7fvfs6YU9PF8OPD8/mnRh0UL40n1fhhWrn4SRo0drcAE4sn8vfPHpx/DFnzaHcnJy9tfUBlaw0IQmbIyAITCgEWAGWOHtFWK8t9tLQyH4TpgkPT0dHn10FTz+zHPgzZuusFJ7GI3xicOHjz/9wov3chzH4sPakDEKhsCARIAZYJm3Vez1hg3v8/+wlsrblWGpNHSGTKwiRrhKiYCNMwQYAgMXAWaARe8txnr5UGhDeLhgxkxY97P1pjxejT+fNjLvY0ZYAyU2zRAYgAhYZoCXFM70Qne3V4xRWnJGVaLEOpcU5JbzAGvCe3jhGy/BC2tfFm/JjtdohAuJEQ7YwZzxZAgwBNyJgCkDLHiLPL+KHFD5yPZGKG2R4+AMyZX1g8fjTxsyrMJtBhnjvbe6OvzhgzYMOfzi//0nzFt0l9KW7Bg/TJiiJ8xiwnagy3gyBFyIgCEDvHR2XgkxvOSfNCWLZo9E6FuQxJXvOVbnp6G3k0ZsfCdPnAQ//Mk/x9v4hre4iRjgVXbul/FmCDAE3IOALgMsPpwyuw0OuK2QBKVOGWI54/vGOx9IDtrWv/4jOFJVKeTzooEeOzYLni7+OnzpKw+ahUBu/VpihMvkJtgYQ4AhMLAQoDbAfYdTaBgUQw1GofF44Be7j9eXGF1vZJ0e4/vuu/8lK2LZl5bBT3/1puwczeD2zzfDgV07oK6mBm7evAGBxjNw69at/qUcdxivM6elDi9xW9iGZn+MhiHAEFBHgMoAizMD1FkanCXGJj0lwxcPQyM2vhjz3fj5Vonnizt5/vFHIjfZ5HaGWRJP/PXfwD33f0V2fXhNJzGwNUer4OC+vXBgz144WHlQjp3smMfDrd19vI55xbLosEGGQOIikKyl+pI5eT6+pz8tS4ve8Dy5aUYOwsrJettjoIKcvptt4QM3pdtsly5dUt0ShiV+vO4HkP2v6yF36mSYMjELuoKdkjU1p5uhtqEROoNByZzWAIm1j9SiYfMMAYZA4iGgaoAxtYwP3q6I27Z4/rHXvv3Nuq8VP3/WLpm/+eW/e7fv3Bmp5/C9V3+oeuA2duxYuHz1iqw6I4YPh4njx8KkCVkwbGiaQCM2vl23u2HPwRNw6epVWR5skCHAEBi8CKgaYAh2lxNoLI/5qsG9ddv23EdWr87NGH6HGpmhuaOHDgIxvpG1K1c+Ag8/+ZQqrwcf/qokBIGGd0buZGJ4x6quxclT9aQgj0nji3FgTUGMgCHAEEg4BBRjwL2hB36LEztatHABfGvtd3WJvnjuHLRcOK+6ZsNv3oRrba0CDWYz/P5P2ttrJcZzxb2LI3znzpwO+dNyVOVET37yxW5DYYcwD4/Hc/Pxlb57/tfPfs2MMDXqjJAhkBgIKHvAPVDq1Bb2HzwEHe3XgdYL/sP778GHFfSREoz7/vSXb1BtLxwbTk1JgcWFsyArU184NmfcOKg/c4ZKlhzR+MzMDhKvLiNzPrl5NsYQYAgkLgIeOdUx31dPwXE5HmbHtmzeTMWi/tQpXcYXmT7zLH01s0BdLYwl5Sbvu3uBbuOLsiZkj6LahxLR3FnTsogBXv6z773gU6Jh4wwBhkBiIiBrgEOhUInT29myxU+lwv69e6jowkQYetBT3+Gz996GJQtnRQ7ZdAkjxOgxLy6crXeZQJ8/bWq03GJDTNgihgBDwLUIyBpg4Jz/uYuxWvRurX7+4eVXqVl+9PZ/QPuV85AyRDlSQ8MMD+v0GuG01DSYNjk7wp5c/V6zvrREX/yDRjlGwxBgCDiGgMQAC+EHgzUerN4FjXc7xeulFos312ivD6PxPXWE/rKElhJohL+0uBAwg4LmmVeQK/G6e27e9NGsZTQMAYZAYiAgMcAhrG7mkgev6Go9c4uKtEgi8996+ftUtFYb37BQDEcsWzIfMJMiLTVVUZc8r3yK24ScKf/WUFnJvGBF5NgEQyCxEJAYYNkW6w7tqT4Q0JSMmRJzCgo06dD7pWkjZJfxDSuI4QxMY/vKskVCWGLShAkR3dEoo3GeP2ua7H5u3OjIucUHq2oq9xXKErBBhgBDIKEQkAQ3SfaDqz7ceHli7oKFqqA+8NBDcKy6WpWGxvu12/hGK4iGGMMSvfHh2G7KShu5dqUFyBfkFNIk1E+MsC+/aHGVEi0bZwgwBNyPQIwHLHS1iPPNNy2Ijh87pkUiGOhRI5R/mdN4v5U7vrA05quptEGC26TOBPmSHNETEoywq74sDW6JLWMIDFoEYkMQMi2FnEamuamJSoWHv/qwIp2W94vG988V8iUnFZk6NNF2tbc4EDPCDr0BTCxDwEIEYgwwx4PrPKqrV69Rbff+FStlveCZ+TNUY7/nGxtg2x83UslwmujGzU6oq62LqBE2wtWVlV6ndWPyGQIMAf0IxBhgN5Y9PHfxAvWu5LzgFY88qrgea/T+/lc/l1QwU1wQh4mmc5eg5XKrrCQcv9RyOWYOjTDwXRUsO0IWMjbIEHA1ArEeMMcrB1Id3AYW2qF5xF5weloarFj9pOLS9/+zzFXGFxXtCQG0Xr8pq3Nj80W4cVM6Ry5pzO/ku8pkF7FBhgBDwLUIxHrAIc51IQhETqvKWTS6c+fOibxcSA7nlAqtb/3D7wHDD257bnV2wfUOqZFtbeuAy9eUwzF4U666cl+x2/bD9GEIMASUEZDmASvTOjYTOH2aWvadi/tLR9655G7ZdQ0nj8K+rX+SnXN68AqJeZ85K61Hf6aZpKBpPSG+jMWDtUBi8wwB9yCQEAZY7mc3DYRK4YctH71LszxC03xevS2RLmYaxBcvx8Z4kVw4fAs0Citnz+n38MWsMB7Ms1CEGBb2miHgWgQSwgDfkol7KiEazhseM2q0bPgBU86utNAf7KGcxuZLgIdjdj9Khv50ow59SVun6sr9Prt1ZfwZAgwB8wgkhAFulvlJrrV17OUm9+z5yx/lhlXHhpJ+b/uqjsPhE/ShEFWGCpM3bt0WZrIzMyMUmPlQczoQea11KxAJeb6nPLKA/Q9DgCHgWgRiDPCQlCG9nSVdqy69YvOLFkiIqw/thY7r8ileEuKogSk5WcIrDANs33sU8EDMjqfxXK+nm0ayN/DBhp5HqusjotRu+8XoQ64rswM5O94hxpMhYC0CMQZ45IiRE61lH39uahXUao8dMqTQyBEZMOKO3iahLVeuwM4Dx6A+QJcaRysQww9t168L5HdkDBXivthNua29PcIiZ8J4WnbECw6VUhMzQoYAQ8ARBCIGGBP5M9LT+yuAO6KOvNDm83Qx0N3bthLDGJBnQkYbTh1XnNOayMnu9YKRrpPUY6g6UQN7K09a5g2fvXAlokJr23Xw766UdFPOnzFDS83+ecELZrFgesAYJUMg/ghEDHAn3F41cfIkSXW0+KsklYgGT+vBJp5vv/V2hOz8uWbJki4KPpJFfQNjRmVIps6SL4Yvdh6A6tqzQrjA6HPxUisgr/DTRP6/MxiUsJs1d55kTHWADxWrzrNJhgBDwFEE+kMQPF+SPnSoo8qYEf7xxo2CZxp+Thw37u3K6aHWDfkEqc/w+bb95LCsWbchxnjygSPqpTRRH4z/5urxgMkavJzBrijLvZtsjCHgDgQEjxeT9/lQcL47VNKvBV5V3vyn/osV2Hiz8WwTHNm/F+YtuivC0Js/CwI1J/QL6FuBxdObFK5Fo8d69GSt8G9m3jTSSfkOzS7KaHx3Hjgq8XZR/0tXLsOtW7ciukbf8NOzAfxlQ+jL9ayRoz3qG+frCYW2yM0ZHeOA2yqs9UBFCnAVBf4LAT287p2T5+vu4U3rxHFwBniOyOYDnMfjTxkyrMJfVaX/tFaP8oyWISD86ZOHhyB+SEFPfzU3offbDW9G1CmYMRPeeOcDSE9Ph1+V/d8YNf/b6mcghTS7NPpkZdK1mD9Zdxq276uCP+84BMdrGoUcYkwnQ4OL/8V/OI7hC3GoAfXHxqHRxhf1XfnoY4bUJl6w8N668SEXR5YL/0L8+mAo1HB4Wba/2jfOG29dsQdiry6whnQE39AZbL+2dHZuma+w0JW1UeKND5NnHwK9IQie86GIjAxpnNM+0dZwxo4Z0d0wnvjrvxEuYGz8fCvcJNXO1r/+o4igUZnZ8NIP/gXQEzby9PT06FqGWQ1ojDGHGA0yGlz8L/7DcfHz1FNfgw0bP4YDu3bETOWSxqPZUa2LxOtUX5OLGarzLppEIxjkQ1VHfOOKnVaLD8F3iCEOYJNap3Vh8gcuAoIBJnWAffjfqdOnJ9xON334YUTnzNFj4OEnnxJeoxFGYzZ9xnT4zU9fA7wBh+Un04YOgydf/J/wwqs/gcXLH4Dxk6dS73n4MOPes5oQ7Njxzkd/hLXrfiyQ7d4Za4AfW71abbnmXEJlQ/AwAr1QNxhhAizqUrm0INe1vyI033xG4GoEkrGtTXcoNAK1xAaXifR88dmnMWlnzxZ/XaJ+U80R4fIFdrzAf+j9TpqaD9mTpsDk6QXCv4tNZ2Cv/zNbS1NiSMQ7eYqg31DyJZCXnw/5s+bAPfd/RfiyaL16VZgL1NUK8evwg94vze23yAKZ/+GhB704v8yUa4d6jXBW6zx/S4XTSvIkhk48Yd+u47VVTuvC5A8sBJLJj+qYn1j4gVfLpXXT9j/5wycRddD7ffqFl2LUQ69XfPMND+GMHsTdvt17VdgIBmh80SOXe9Dobvzd24IHjP+Nfsx6vwKv3hBTmZxsN4+FeChv8Hm9U/2BVof1HBHi+XKiAwtHOPxGDDTxHgjx3uhNjR4zOiH2iN7vtbb+z+Wqv3pCoreRug8SJlEDt/WFgGNYBRrPKLLe4/9LZO6Lz/uzOazwfpExRyIyisLdPEHCEdehs8QVKpKi98QLLnaFLkyJAYOAh3w6fdG7mTRpckJsLtr7TU9LhyfW/G2M3nLer9mNNTXT3ciTkyPOaoim2b7lL3Dn3ffC9s83w+Wr/TfivvGtv5djpXuMZEIs173IJQvIlWp3GGCCh5szSlzydjE1dCIgufnmnTZNJ4v4k4u93/u+fL+k9KTV3q+QPkbqQJh5MNTgzYs96MTY78HKg/CTf/0P+Kfvfy/Cfk5BgfHMBzNKmlxLvO23wOMJqLEhRnUVyX2kyzsnXjDmIM/1X/Cr8VSbQ504DvN8Yx8eW3DxsArT0MRzcq+JAX4MU9NYjrAcOmzMCALJ5A8wJq5l9sDHiBJ610R7v7j2uW/Geop2eL8NTca93/D+jlcekhjgzz58D4SLI/W1sG37tggUDzz0kF5YVOnxsDW/aHGVKpEFkx6Pp5zCWJZilgMetNGIJG3yfITOT0MrR5OUxJXvOFantL6EZDmUk4O2NXJrxWPd3R34eVHiJSZnrxkCqgh4hK66omdC9jjxkGteY95vdOwXLy6IvcrKXaYvR8XsFy9SRNdqMArGwb27JUt/W/4mjB2bBf/4g1cjc3jt2Oovwh7gXBUHnue/UE5unb0uAcSBgd3V9cXAcYcdEM1EDnIEhDxg8ZMzcYJ4yDWvo/N+USm8eBH9YL83vR0v1DaHRXZO1TeqkVDPbdnyhXA9Gh8MR+AlEYz5YggiOvUsj1xlHgxPigVXpK3CycNxZVbxYnwYArQISGLAuHAGiT/uP2isdi6tYCN0WPMhOkVuDMmfDV+8CPM7sO1zI6wV1wSaLsbU5FUkpJjAg7gX1zyjSTl6TH9HDE3iBCbA2g9Vy7PaSBhM8iss3ttKGZLk7wySYAd7GAJxREDWA54zLyYsHEd11EV9+tGmGIK7RF2Pr12+aDjHV04yer+1DdZ4v3L82RjewuRsj0vT4OyvOhmgoWM0DAErEZA1wFh3gLr9jZXaKPAK67Jv/4EYCvHh25HdWxU4GBtG71dcLMcYJ7aKIcAQYAhIEZA1wEjmpjjk6FEjAbtdRNf7nTxxouTw7UTlPukODY446f02N/VfRTaoPlvGEGAIJAACiga4aOGdrlJ/1/btMfo88NDDMa+NNtxU2qST3m/d6QYltdg4Q4AhMIAQkD2Ew/3NLSpy1TajS06iYuKbb0YbbiptsvHcRaUp28fR08fLJvevWGm7LCbAXgR8hTO9weDtQnIRRNfBCrn0UZWaOqTKTGwaS2mSNFMfqXaoKwVRS7ZwJZuPLWEgQZHjKmiLF2Fh/VAIfBIeUQMpKcnlalggjx5yp0HPXnkOWpM4qFLJEVdTKTJn9D0mqY8BRQOMldHcUphH3JRzAWk5jxXEoh8zDTfFKEd3KBbPxev17h07mQGOF9g2yBEMQg+UdgZvC9fAiVHTLYWshaUFeVuTkqBUj5HoNQjd5eSiS69s3ZKx8ayybB5ChWQ731Fj2/fTmuqAtScEJXjLUI0fmSsXz+OtxK6ujhJSKKmEdEYRMml0oUyIsZPjkoLcNkxDTEnJKNNzy9Hse0xuaG5SDEHgZuYX6vrSFuNj2WtxU85l990fwxvDD2YabooVvXS1QzwU99eYboeXTtiTeAhgNw1slYQF5s1qjzyQ192z8kppeKFRIsazykrZuJ9o2Rx4NA0rMdA+Gn17aXhNQyP2ftG77+zq8BPju47wMJvGiNXu1gW72qtoC/Bb8R4TA1ylaoAX330PPYZxpFzi+3KMNKvDD/VnlCuXxXGbIL50Ek/ZTJYxBPCDid00jK1WXoUGQmwI5aiDXR3lZNysQYphjfvB69rhQQ/HB+Rkx4xxGiGKPmL8wtCqxRHpHRi1hnj3fvKzYr6mHjoIUA/ki78g1JYJV9eteI9JCELVAGM6mtuuJctlP1gdflADP55z6AXj5RP2JAYC+JPUkg+mwnaRN8pQmAY0HBQ/5ZWWq46TX+trwp1BaMIhaMxoeur11dZQlQ0ePsbjDgY7KsgCS79kohQYEQx2lysptHR2XglioTSvZxwv/6gaYGS2ZOkSPTxtp5XLfrAy/HDjlvGi63Zsft+unXawZTxtQABjvjawjWGpJiN4+3aJrfI56A9FUNTOoDGueHCmpXN0yEP4krMgtKMmE/krtaEiDWSteY8JfhhW0TTAbgtDLL53WQx2jXXValjqnmu53NsaSPdCmxbs2b3HJs6MbTQCap4lDVKC92mzYUA9UIbiT+SQvkwLmn1F06BXG46RciRLQ2u9VmaDsD6kHf+NDnn09PDFWnItmec4iZw+o2yJ503wK0U9NQ2wm8IQWHh93qK7YvA9ffKYJXiHmVy8fNlSfmaZnbt4ATrar5tlw9ZrIEDjiamx6Lrd41Obt3JOSVY8vgBI3HUV7kWuvrJ4jyQc4hWPiV/zFOl50SEPGnqxDCOvie4+8Tq9qYTi9eHXWJ+aVODDMIq2AUYit4QhFi1aFLMnrP0g7vmmtGma8dY257Mf5PQ8WlkpN8zGLEJAOAgy+9OSwthYpC7mtHkt42WQkcejXROZylhqHaSJQx1a9Ab3I7NM4umS2K9muCTCh+iNh4cx/zhuEzG+jwvlT/sexTzgaIUwDPFhhWCwHX0WiLzfgMXeL14/duNz8sQJWLrMdEaTG7cWF53QuyUhBllZOEfSjzB2KvnAyS1ITk4OyI3TjHEckPQario1JaNYnG+KYYXOru4KMyf7e6rryedb/xPOGyaVkcghHl13kOTkjKrunnZ1YRrGEsMZJOtAlQdNqEOOAWkM8Dy5CFIunsNDNIIxyTum22fMeooLLcTgnttdXZcjlqv0WjMEgQsxDIEtcpx+xOlnTadrLFXJTNdjSxURMaurrbOT/YDnTbzb9ZhLK/cP52g/jGhAxfmoesGTM77IA/mmpSQLP+/j/aDs1NQMXbLxC6T3C0VdW43YuqZHSRPqkGjAcR/IGV+k2328rgy/BCVrrBuo1cOKygAjw8KFC/TwtZw2PT1dUnynOVBvqRwzXY8tVUTEDOPA7HEBAiaLtvPAXRB7vtG7MmvczSCEeqF+unjwXECLPsRzXiUavFGnNBcepwl1iHl4OM/74rGY1zR5zKoMrJukNsBYlyAtNc06yTo5zZo5K2aF1fFfnerEnZzdios75GKBbalDMsrFg3pekzoFnXro402rVz/iAfu1dFQ1shRZGxjq0JIhnvdwIdUvElKDulW8xqnX1AYYFVy8yLkKaXn5+TEYXWgMOIWZI3IDp087IpcJ7Ueg6/YNL8OjHwEs2qOJh4qRpcjaaFP7xaApOwEIdBnglY8+5tiW7rz73hjZLc12XBcm55wufZqaGl2q2aBRawTPhypobncNFkRIU9WA1l6VjKxiLnMUQ3KgpW3gtRRw+bwuA4yHcVghzYln0tRpMWKbGnTFuqlUHpqWQkXnBNHVK+66IOIEBk7LxMO6vloLTqviCvm05SbljC2W6NTaBE2IQ4uH2+ep0tCiN3H/Aw9A/RtvxH1f4tbz7a3X4q6DkwKjm5E6qcdgl421FvBkn6YeghuwQuPX3d3tpdGlO0TqBuv8EYh5rkpeblhmn7ENROuAlxq0SnRShThoNuZiGt0GGPNR33v393CtLX5x7IIZMyUQWnkBQ8LcpQNYmAd/hbDHWQSwfi3RwO+sFsrSw3VyiWEsJqUppyhTWjCDhXJCoJqk3neDrCJaGvk14dOSThPi0OLh9nndBhg3dN99vrhezBg6dFgMjucbG2zBNStzpC18rWLacuE8M8AGwOQ83FrsfKC0VLiGrCM5366KY0r66RnHegWdwfZysobqYoke3vK0mIqm7jbLGVvy5aAZgqANccjrlRijxgzwgw/Cp3/8LKZJpp3bFWdAdN5055VhOzFA3pgJMXfBQrvFDDj+FG1n/GTTZUKdV8pSg24MQ2CrIHKzbEM830DEVvP+qKg2cG/R+HbVLwhxDeB47imesnQdwoUVw3ZF8UxJG37HHTGYNNZaWwEtmnl2ZmY88dcl68bNm7roGbE+BPCOfqJ+8DHWS4xvmb4dm6emiYWLawPTlKkkXnXAvHbu52DIA8ZtYUrath074rLDGXPmxUUOCklJcXMmhLsqtcXtTYmjIBKuIN0OzLcSklWZeIJarYVI5wvZpVqD5KCrlNCoepVaPIzO45VkrevcfUbXjzKoylR6jKegYclKgrNPaT9yIRElWrvHDRtgPAxaRK4n7z94yG4dJfzbrl2RjFk1kJU5Cppc2oWCpaJZ9S6r8lGMFauuophEI0Vin+soSHWR9P2kX6NrkaXEaCz5KWos+4yuH2nIV4xm/FctZq8mp4//Gq0MCy0e8Zo3FIIIK/dXT30tXnrGyLneamNObEgzouXInpnQ+CCQiAc/dD/p7cMPm0tqcScG0dtPo30ARxPa0JKZCPOmDHDYC7Z7oyNGxi87YSzxgN36sFxgt74zzupF9ZPeRhVpCuZE1wbWClfQVFmzcTtxZW04BBHWEr1gu8MQ4i4YdiI0bGgajCCHfm3XWRcKO3FmvB1AgONueHjun/kkqEoCXpJKRC5ilBmpR4w1krt7NHop9tUGxuwRUhZUY/PG478ajF03bdoAOxkLlkMTu1qMHJEhN0U9Nj4rkxlgarQYYaIg4OG4e3edqFUMFywtyCMlKfU/WEZzSUFuG1mpegiIxpem9RNNSEO/lu5cYSoEEd6S3bHgQB1d3Yfm85eg6bz5A7qRw9Pd+W4RrVh/ONe+Na5XzM74Nk3hHKE2ME0TTop2R64Hm1JBSwyw3bHgpga6Uoyt7beg5nQD3LhpruxqzvixpPZxKiWE8SVrqKX7MoqvVkzaYEeApnBOb21gYoQ1HjNtnzRYu27aEgOMu7LbC6ZB7nxLb57s0ZMNNOSqNNMmT1KdZ5MMAYZAFAKcdncMILWBtQr3EI6kBvDJwGDB1nQMOAyU07FgbKgZPjhrvnARLl4aD9ljjWdPTM7JhBOsF9tg+RzEZZ94y440bPTFRVj8hSjGlsOqUBhfoAllaG0tOYm7L1HS2CzzgBEU9ILtaFt06tgRLcxB3FJ+/+ETYKbLMWZDTBw/TlMuI2AIMAQALIsvY3W1QfRYaoDRC16+fJnl8LVTpIS134iN+wa7uuBotblQxITsMZbvhTFkCAxYBDjusNm9ceBhBtgMiI88/rjlXnBdTWz7+UlTp0tUTEpKkowFzjZDfeCcZJx2YNIE9x7G0e6B0TEE4oUAR9MjTlsZZoC1MVKmwEppKx9aoUxgYObSpRbNVS2X5TtkVJ2ogZbLrZrrlQgm57irADorR6n0TrFxxxEwUUAnrLtloQzHwaBTwNIQRFjkV594EkaNMH4AJla98WxTzNAdo6ShAQ+5D6n07D9cLYkRK9GKx7MzVXPLxeTsNUNg0CJgpoCOAJoFIYxEA1/ZapncyfN/+3WTHGKXb/98c2RgZGaWLt6dwSDsPHDUkBHGLhmpLi5RqQsIRswQsBGB5OQMU+EDi0IYNu7Qeta2GWD8qTynoMAyjQ/s6q89PH7yNN18zRjhCdn6DL5u5SgXTMhmWRmUUDEyBxDwV1W1mimkQ3rHBRxQ21GRthlg3NWzz1vnBUcfxKWRHnEpqWm6gTNqhEeZrC2hW1GFBenp+veswMo1wzwHXtcoQxTBegVu0ifhdOGNG1GaqmoJh4eGwrYaYExLe5C0sbfiOVh5MIbNmOzxhtiGjbCegznMCXbDI+4eX5ipAAALmUlEQVSN5wadTOvAqxfyNs1fJwOhXgF7DCNAcyVZibnZEIYSXzeP22qAceNPP7fGsgO5T957N4KlXCoaLdBohLfvq6JOUXNLt+QpXi/tFhOC7ohvXLHbFCXtiGzTiXj71p1Muw24Pn1I4XVDcWAMXWAIw4pt0VRcs0KOFTxsN8CopFUHclv/3H8Ql5UzJWb/yTJ5wFoAYYrawSO1VDfm3HAQNy1Pmv+stUe3zjf4vCNJ/7NSN+m3dHZuGc11WaM6c8CPJJ2LC42uN7suHuGV1NQhhgwwmAhdiHEhBd+LxWNufW1ZLQi1DYYP5I5Vm+tmvP/Afmi9ehVGjh4NU2fOiRFptAYwXta41nYd5hXkgpqnO5bIPHvhgto2bZ3DtD4M6bj9CQFfeNSnflhIaFa18TeLSXMwqhw/DkLGPtR9YKFHRIyPInQYdkDPV08zTiO1Bkit3TTiIe5YUpD3b1wSt0OuKLpYSaJbq1W5saTg+sdLC3Lf5zxJn3m4kOSPmcyPxIZtZp6+2sC6WZgJXUiEkeLvS2fl7uB4z2eeJJ6qczCGP6zywCX6qAzExQCj/Je+/W14uWQtdAaNl4q8desWfPbhe/D0Cy8BHsSNyRoHV1rCf0fG/3La2tuFkMSs6XmQ6x0HKUOksLR33FCB0f6pnAnGYt72axYrgRix9T1mP8UipYfDUL+ZfaBO6p3+9P3tkNP6TYb04SFbaEkJ8Arfw7+irlNYAg/EmJwhy0p2V9dXyMkloY1WKsh5fhiRvoYP9awJyTGyaAyLDun9JWE0dKGkMvGC7yHlL+8J9ShRxI5397QD+XJ6KzV1eEk8DTEpkm/+/jbNFvGG3HNrnqMhVaXZ/MkfIvM53n6vZmia+XbyWP1s657D0Ngce/MO6wu3dbSr6mX3ZP6MGSZFJAdMMnBkOemO8NZUf8CS2KBVGyCfGYkhtNqAROva200ZNpLwRbHcHkxfgJBjambMQEEd2tAFGnczqqmtxS+nzq4OP3aZVqOzcg5jwHH74166bLnp3ODqUychfClj3pLlESysylS4TrxhrKT2520H4XjNGcAuGwcOn7ISc0O8vNP05z5HCyooKgoYEuzwohSPp9RhFWLFE4eFhATKxToRz8kvHrP6dSgU2uArnOkV8+0Lh2BLIFc8RgrqUNcANmDcdYFCwhfBYHuZrjUmiD3E6sfNAKOeGIowe035nfI3hS2PnzwVMu7o/bJCA2xlFwv0eE/WNcCeyuNw+Zp8nQkTuOteaqYGBPEaXPPh1LNxzuN5vcB/IaBnjd205CdjsZwM4RIC8dbl5qwcCwZvl8rxI7IlXrkcXTzGPBwf0CNHj1ebOmSI7cYRPWG5Lzo9e6KlJVhBFS2xFXQYijCbFYE5wUf27xXUmRZ1GDd2jLRGhBU6O80j12z6GRff99gKvNCYzfdfKLWCl1U8SL2R59UOxMjPaNTX1i87YhxWye0HY5d2y5aTKzem+4BSh1eLnjLngV/IybVyLHi7WxZnK2UgL6xhE1cDjELRmzN7QWP9P/1YwCI6DJGVOcpqfFzBL2fiRFN62BmfNKWYwmLB+G5rKVaYdmS4z/iWqwkXjAPYngI1Qi6dDD1woqOP6GfrF4Da/mPmdJ0t6bs9t/t4fYker5la52jCkPwXnSFeKos8IUiJuwFGffCChhnPLhwLjg5DDJGWBFbZeuJMTfZOMaUs+SnvyHusW2mOO0McgsfdZHzxg04MW5Fc3Fduf5ipgC1xzNREkOMbPaZ0Ww+9czTCdsrW0i08T76IArS0Rg4RsbWTnZ4wyeIopNXfDJ1HOJwht1DMMDG6tuSVV0wVb/+X118TRBct9Qn/HTtAPeCsLJK9ZOIh30vuNcActBEjtwk9zMKtF73z/C0VJrZqyVI0YOiFoyHFD7pa2EFOIP4ET00ZXsh5uLW2lFjkea+cXBxDXXefqPcinrbIVhIsGif4Uf/N6Q5Z9MlCT1j4suuNvVvt+VPlqFPCoUhGdAeoPrS3nPxMXaNIZeNE/alT8I8//j+GJTxF+tD93cuvwq9+8gp0kRzjHfuOwcXLvd2RDTN12cINv/2dcY2IMZm1YInXOAO2kiHAELALgd6ryBznt0uAFt9ckt/67LPPaJEpzr/77n9BzfFjULiktxddVuZoRdpEnDDb5JR4l469t4mIN9OZIRBPBAQDnAZDHP3Zd/+KlbDs3nsN7/t/r/02eAvmC+uHpQ8xzMeNC3NMdmb2cO5JT3IjvkwnhoCTCAgGeGpRESmkzL3lpCLPf/PvYNHCBYZUuHz1Cvx03WuwePkDkDN+rCEeA3ER5v/OKLrL0S/XgYgr2xNDwCoEekMQhJsbPKVvrf2u4cwIzA3et++QUKg9d4q5rAGrwHWaDznJLXdaByafIcAQUEYgYoAFT8mhbIho9TAzwmjrnQ8+eB+6SEBlzKgM5R0PohnOk1o2iLbLtsoQSDgEIgYYNec45+/d402575euM26EN1ZAj52lnuL8Fl+91mpIIoaUErX+g6ENs0UMgQREIMYAFxQtLneDF2zWCB88cjwB3wp5la+1tcLFc+fkJ9VGOU+52jSbYwgwBJxHIMYAozpu8IJRj7ARNnow5zy01mnw2w29xYdoOfZ6v4v8tPSMjiHAEHAGAYkBRi84XjWCtbaMRhgP5ga7EcZOIr9c/3MtuPrnuZRSemJGyRBgCDiFgGz1hP/xzZdOAm9fc0K9m1209G4YPjQdjhw5qnfpgKE/d/68gIFWXziSevZ6wYI7WerZgHnn2UYGMgISDxg3W1Ak/Hy1veSbHmDxssYPf/SaqdoReuS5kXb3jp2qauEvl4KFd5WqErFJhgBDwDUIyBpg1C7dk1rqllBEGC28tvyzsvWmu2q4Bn2LFUlSKBZusRjGjiHAELAIAUUDjLfj8AONt6kskmUJG4wLf/cHP4QXX3xx0HnD6enpyhh6YG1+0WLqClTKjNgMQ4AhEC8EFA0wKiB8oD1cSbyU0SMH+8uhNzyYDugeeOghWYgw62FW0RJ26UIWHTbIEHAvAkI5Sq2n+uDeUnKtdZ0WnVPzmCf761/+O9QHAk6pYLtcrBiHcXDxI8R9F9xVKB5nrxkCDAH3I0BlgHEbTtYMpoURawtv/vRj2H/wEO0SS+iwZOTiRXfCzFmzICOj/xp04PRpqCE6YRqZ0QcbmD751H8H9PjFDxrfNC7Fh+Ei8Rx7zRBgCLgfAWoDjFtJBCOMena0X4ctmzfDnt174NzFC7a+CxgCee6FbwgXR5Qe9NA//WgTHD16DPBmm9aDBj1v2lQoJLzlvF5cz4yvFopsniHgfgR0GWDcTqIY4TD0aPz27dopeKLN585TGUCatw372T22erXQYFTPg156C/lSOCMKl0wh/NB7zho3HrInTFBlyYyvKjxskiGQMAjoNsC4s+rKfcV8KLQhYXYZpSh6xw21tYDhgRs3bwozdTU1mlvJy88XaGbPmQNTp09X9Xg1mZkgwAM3EnYoYWEHEyCypQwBlyBgyACj7tWV+30QClWQw7m4NK9zCV7OqkFSzVi2g7NvAZPOELASAcMGGJVoqKwc2cl3VZCGntITIiu1HOy8sEsvl1Tcd0NxsKPB9s8QGDAImDLAYRROVO4p4UIcpqoxb9j6P41f4K1EFnKwHljGkSHgNAKWGGDcRJ83XOZUe3ungbRaPon1biU3EUvY7TarkWX8GALuQcAyAxzeUnVlpRf4rlJmiI29yWh4gXQmYeEGY/ixVQyBRELAcgMcbYj5ULCE1JIoZqEJij8JjttEiuGXMcNLgRUjYQgMEARsM8DR+Ahpazy/iuPBx4xxPzLo7fIcX5EOqeUsxjtAPlFsGwwBHQjExQDHGmMhfc1Hes/5gIfCwWSQBYPL81VJHs6fAil+ZnR1/KUyUobAAEQg7gZYDkMhp5g8PPQUkmyKkXI0CTnm8fhR7zRIrmLGNiHfQaY0Q8BWBP4/W3j8QeJG/C4AAAAASUVORK5CYII=)"
      ]
    },
    {
      "cell_type": "markdown",
      "metadata": {
        "id": "h7lbv83HKXxH"
      },
      "source": [
        "Usei o  dataset https://www.kaggle.com/dhruvildave/billboard-the-hot-100-songs , um arquivo CSV contendo o ranking de músicas da billboard top 100. \n",
        "\n",
        "Por limitações do plano Free do heruko (que só permite a inserção de uma carga com 10 mil linhas), vamos analisar o arquivo e modifica-lo para não exceder esse limite.\n",
        "\n",
        "Para isso vamos usar o Python e sua biblioteca Pandas"
      ]
    },
    {
      "cell_type": "code",
      "metadata": {
        "id": "E2frcyhIFrOI"
      },
      "source": [
        "#importação da biblioteca pandas para analise do arquivo CSV\n",
        "import pandas as pd\n",
        "#criação do dataframe baseado no CSV\n",
        "data = pd.read_csv('/home/silas/Downloads/charts.csv')"
      ],
      "execution_count": null,
      "outputs": []
    },
    {
      "cell_type": "code",
      "metadata": {
        "id": "ywkFHKBmnpIJ"
      },
      "source": [
        "#ver uma pequena parte da estrutura do arquivo\n",
        "data.head()"
      ],
      "execution_count": null,
      "outputs": []
    },
    {
      "cell_type": "code",
      "metadata": {
        "id": "5KcYCIA6n7J0"
      },
      "source": [
        "#resumo estatístico do dataframe \n",
        "data.describe()"
      ],
      "execution_count": null,
      "outputs": []
    },
    {
      "cell_type": "markdown",
      "metadata": {
        "id": "3L-R34B-oJsZ"
      },
      "source": [
        "Foi constatado que o arquivo possui 328487 linhas. O primeiro lançamento foi em 04/08/1958. Para prosseguir vamos diminuir a quantidade de linhas para analisar um recorte menor de dados e consequentemente poder usar o Postgres Heroku e fazer as consultas SQL\n",
        "  "
      ]
    },
    {
      "cell_type": "code",
      "metadata": {
        "id": "6xvlRhB8oHYU"
      },
      "source": [
        "data.iloc[10000]"
      ],
      "execution_count": null,
      "outputs": []
    },
    {
      "cell_type": "markdown",
      "metadata": {
        "id": "K6t8D8lYpo4R"
      },
      "source": [
        "O registro da linha 10000 mostrou uma música de agosto de 2019. Para não ficar com um ano \"picado\" vamos usar apenas dados do ano de 2021 e 2020. Também teremos uma gordura para fazer inserções se necessário."
      ]
    },
    {
      "cell_type": "code",
      "metadata": {
        "id": "7gBo-KjQp3cs"
      },
      "source": [
        "#Criando um novo dataframe e adicionando os dados com a exclusão usando a data como filtro \n",
        "nw1 = data.drop(data[data.date < '2020-01-01'].index)"
      ],
      "execution_count": null,
      "outputs": []
    },
    {
      "cell_type": "code",
      "metadata": {
        "id": "bap6ID1cqP5S"
      },
      "source": [
        "#Agora temos pouco mais de 8 mil linhas\n",
        "nw1.describe()"
      ],
      "execution_count": null,
      "outputs": []
    },
    {
      "cell_type": "code",
      "metadata": {
        "id": "HdoUDXFaqUkn"
      },
      "source": [
        "#Agora usar o novo arquivo para dar carga no banco de dados a partir dele\n",
        "nw1.to_csv('blbxxi.csv', index=False)"
      ],
      "execution_count": null,
      "outputs": []
    },
    {
      "cell_type": "markdown",
      "metadata": {
        "id": "7Aimt52ku-1G"
      },
      "source": [
        "Com o arquivo em mãos. Vamos criar o esqueleto da tabela no banco de dados. E a importação do arquivo para as linhas e colunas. Os comandos SQL são feitos no dBeaver\n"
      ]
    },
    {
      "cell_type": "code",
      "metadata": {
        "id": "1F8ATFJqh6TV"
      },
      "source": [
        "CREATE TABLE PUBLIC.\"Billboard\" (\n",
        "\t\"date\" DATE NULL\n",
        "\t,\"rank\" int4 NULL\n",
        "\t,song VARCHAR(300) NULL\n",
        "\t,artist VARCHAR(300) NULL\n",
        "\t,\"last-week\" int4 NULL\n",
        "\t,\"peak-rank\" int4 NULL\n",
        "\t,\"weeks-on-board\" int4 NULL\n",
        "\t);\n"
      ],
      "execution_count": null,
      "outputs": []
    },
    {
      "cell_type": "markdown",
      "metadata": {
        "id": "vQzP0N1sjkGY"
      },
      "source": [
        "Em construção..."
      ]
    }
  ]
}